{
 "metadata": {
  "name": "",
  "signature": "sha256:b7d0fe440192c88357630f83e28cb44cf39dc4480074200dd90da33bf0570444"
 },
 "nbformat": 3,
 "nbformat_minor": 0,
 "worksheets": [
  {
   "cells": [
    {
     "cell_type": "code",
     "collapsed": false,
     "input": [
      "execfile('/Users/rob/pandasSetup.py')\n",
      "import string\n",
      "import futures\n",
      "import time\n",
      "import subprocess\n",
      "\n",
      "\n",
      "cmd_list = ['echo 1_{:0d}; sleep 3; echo 2_{:0d}; sleep 3'.format(nn,nn) for nn in xrange(10)]\n",
      "print cmd_list\n",
      "\n",
      "def run_cmd(cmd):\n",
      "    #print cmd\n",
      "    sys.stdout.flush()\n",
      "    p = subprocess.Popen(['bash','-c',cmd], stdout=subprocess.PIPE, stderr=subprocess.PIPE)\n",
      "    sys.stdout.write(p.stdout.read())\n",
      "    sys.stderr.write(p.stderr.read())\n",
      "    p.wait()\n",
      "    #time.sleep(3)\n",
      "    #os.system(cmd)\n",
      "with futures.ProcessPoolExecutor(10) as pool:\n",
      "    job_dict = {pool.submit(run_cmd, cmd):cmd for cmd in cmd_list}\n",
      "    for job in futures.as_completed(job_dict):\n",
      "        print 'done'  #, job_dict[job]"
     ],
     "language": "python",
     "metadata": {},
     "outputs": []
    }
   ],
   "metadata": {}
  }
 ]
}