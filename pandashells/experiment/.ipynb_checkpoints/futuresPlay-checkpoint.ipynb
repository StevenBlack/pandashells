{
 "metadata": {
  "name": "",
  "signature": "sha256:0d79580df7b3f51c9ca34df4021a533eb89389b40d9f57c0ab15374e41484d06"
 },
 "nbformat": 3,
 "nbformat_minor": 0,
 "worksheets": []
}